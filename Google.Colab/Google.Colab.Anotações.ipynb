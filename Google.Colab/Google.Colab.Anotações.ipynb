{
  "nbformat": 4,
  "nbformat_minor": 0,
  "metadata": {
    "colab": {
      "name": "Aula-2.09.02.21.ipynb",
      "provenance": [],
      "collapsed_sections": [],
      "mount_file_id": "19fsEsB7UEMJ8Q8YU9_d_kVs6aO9_9p_Z",
      "authorship_tag": "ABX9TyPVNsTJk2s4uY7sXkoHCcgw",
      "include_colab_link": true
    },
    "kernelspec": {
      "name": "python3",
      "display_name": "Python 3"
    }
  },
  "cells": [
    {
      "cell_type": "markdown",
      "metadata": {
        "id": "view-in-github",
        "colab_type": "text"
      },
      "source": [
        "<a href=\"https://colab.research.google.com/github/Thiago-Ziolkowski/Estudos/blob/main/Aula_2_09_02_21.ipynb\" target=\"_parent\"><img src=\"https://colab.research.google.com/assets/colab-badge.svg\" alt=\"Open In Colab\"/></a>"
      ]
    },
    {
      "cell_type": "markdown",
      "metadata": {
        "id": "YrhTPEOGEwZb"
      },
      "source": [
        "Aula 2 dia 09,02,2021\n",
        "\n",
        "Kaggle - a empresa cria desafios do dia a dia\n",
        "\n",
        "1º Passo: Importar a base de dados\n",
        "\n",
        "2º Passo: Tratamento da base de dados\n",
        "   - Excluir ou corrigir linhas e colunas vazias\n",
        "   - Ajeitar as colunas importadas\n",
        "   - Excluir linhas inuteis\n",
        "\n",
        "3º Passo: analisar a base de dados\n",
        "---------------------------------------------------------\n",
        "import pandas as pd     utilizar essa forma para resumir o nome originar do arquivo\n",
        "\n",
        "----tabela_clientes = pd.read_csv(copiar o caminho do arquivo) \n",
        "\n",
        "para visualizar pode ser:\n",
        "\n",
        "----print(tabela_clientes)\n",
        "----display(tabela_clientes) P/ EXIBIR TABELA USAR ESSE\n",
        "\n",
        "''QUANDO DEU ERRO ELE INFORMA QUAL LINHA DEU ERRO E VER A ULTIMA LINHA UTF8''\n",
        "\n",
        "OS CODIGOS DO PYTON NÃO LÊ ACENTUAÇÃO POIS O PYTON ESTA EM INGLÊS\n",
        "\n",
        "SOLUÇÃO:  encoding=\"latin1\"\n",
        "\n",
        "----tabela_clientes = pd.read_csv(copiar o caminho do arquivo),encoding=\"latin1\" \n",
        "\n",
        "COMO EXCLUIR COLUNA NO PYTON\n",
        "\n",
        "PEGAR A TABELA DESEJADA E UTILIZAR O DROP\n",
        "\n",
        "----tabela_clientes = tabela_clientes.drop([\"nome da coluna\", \"idade\"], axis=1)\n",
        "\n",
        "SE FOR 0 É LINHA E SE FOR 1 É COLUNA\n",
        "\n",
        "FUNÇÃO PARA OLHAR DETALHES TECNICOS DA PLANILHA BASE \n",
        "\n",
        "----display(tabela_clientes.info())\n",
        "\n",
        "FUNÇÃO PARA EXCLUIR LINHAS COM CELULAS VAZIAS\n",
        "----tabela_clientes = tabela_clientes.dropna()\n",
        "\n",
        "FUNÇÃO PARA O PYTON FAZER UM RESUMO DO PANORAMA DA PLANILHA DAS INFORMAÇÕES\n",
        "----display(tabela_clientes.describe()\n",
        "\n",
        "FUNÇÃO PARA CONTAR VALORES\n",
        "NORMALIZE É PARA PERCENTUAL\n",
        "----display(tabela_clientes[\"NOME DA COLUNA\"].value_counts())\n",
        "----display(tabela_clientes[\"NOME DA COLUNA\"].value_counts(normalize=tue))\n",
        "\n",
        "BUSCA REGRA DE PARETO 80/20 PARA AJUDAR A BUSCAR ERROS E FACILITAR ANALISE\n",
        "\n",
        "DESCOBRIR OS PRINCIPAIS MOTIVOS DOS CANCELAMENTOS*\n",
        "\n",
        "FUNÇÃO PARA CRIAR GRÁFICOS (NO SITE DO PLOTLY TEM VARIAS ORIENTAÇÕES DE COMO CRIAR OS MODELOS DE GRÁFICOS)\n",
        "O GRAFICO HISTOGRAMA SERVE PARA CONTAR AS\n",
        "\n",
        "----import plotly.express as px\n",
        "----fig = px.histograma(TABELA,x=\"COLUNA A EXIBIR\")\n",
        "EX--fig = px.histograma (tabela_clientes, x=\"categoria\")\n",
        "----fig.show()\n",
        "\n",
        "PARA POR COR NO GRÁFICO\n",
        "----fig = px.histograma (tabela_clientes, x=\"categoria\"), color=\"INFORMAR NOME DA COLUNA\")\n",
        "\n",
        "PARA REPETIR A FUNÇÃO PARA TODAS AS COLUNAS \"USAR FOR\"\n",
        "\n",
        "----import plotly.express as px\n",
        "\n",
        "----for coluna in tabela_clientes:\n",
        "  ----fig = px.histograma (tabela_clientes, x=coluna, color=\"Categoria\")\n",
        "  ----fig.show()\n",
        "\n",
        "\n",
        "\n",
        "\n",
        "\n",
        "\n",
        "\n",
        "\n",
        "\n",
        "\n",
        "\n",
        "\n",
        "\n",
        "\n",
        "\n",
        "\n",
        "\n",
        "\n",
        "\n",
        "\n",
        "\n",
        "\n",
        "\n",
        "\n",
        "\n",
        "\n",
        "\n",
        "\n",
        "\n"
      ]
    },
    {
      "cell_type": "code",
      "metadata": {
        "id": "_kUOgg0pkelH"
      },
      "source": [
        ""
      ],
      "execution_count": null,
      "outputs": []
    },
    {
      "cell_type": "code",
      "metadata": {
        "id": "b3jZBD84EoIA"
      },
      "source": [
        ""
      ],
      "execution_count": null,
      "outputs": []
    }
  ]
}