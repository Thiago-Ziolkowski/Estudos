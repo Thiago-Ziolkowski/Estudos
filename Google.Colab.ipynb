{
  "nbformat": 4,
  "nbformat_minor": 0,
  "metadata": {
    "colab": {
      "name": "Teste Google Colab.ipynb",
      "provenance": [],
      "collapsed_sections": [],
      "mount_file_id": "1D6Q1VpcJNXDCB0-BU0_y6UfoCaI9ckQ3",
      "authorship_tag": "ABX9TyMJ28mlP1sAOEGG++Aia9HM",
      "include_colab_link": true
    },
    "kernelspec": {
      "name": "python3",
      "display_name": "Python 3"
    }
  },
  "cells": [
    {
      "cell_type": "markdown",
      "metadata": {
        "id": "view-in-github",
        "colab_type": "text"
      },
      "source": [
        "<a href=\"https://colab.research.google.com/github/Thiago-Ziolkowski/Estudos/blob/main/Teste_Google_Colab.ipynb\" target=\"_parent\"><img src=\"https://colab.research.google.com/assets/colab-badge.svg\" alt=\"Open In Colab\"/></a>"
      ]
    },
    {
      "cell_type": "code",
      "metadata": {
        "colab": {
          "base_uri": "https://localhost:8080/"
        },
        "id": "RgC_FzqYLKG-",
        "outputId": "5f1edc79-cb16-498c-d0db-4154152c40fd"
      },
      "source": [
        "Nome = \"Thiago Gomes Ziolkowski\" #@param {type:\"string\"}\n",
        "Idade = \"31\" #@param {type:\"string\"}\n",
        "Data = \"1990-04-05\" #@param {type:\"date\"}\n",
        "n_1 =  20#@param {type:\"number\"}\n",
        "n_2 =  30#@param {type:\"number\"}\n",
        "print(Data)\n",
        "print (\"\")\n",
        "print(\"Olá\", Nome, \"seja bem vindo ao Google Colab\")\n",
        "print(\"Sua Idade atual é: \", Idade)\n",
        "print (\"\")\n",
        "print(\"Let's go, informe dois números.\")\n",
        "print(\"A soma dos números informados é igual a: \", n_1 + n_2)\n"
      ],
      "execution_count": null,
      "outputs": [
        {
          "output_type": "stream",
          "text": [
            "1990-04-05\n",
            "\n",
            "Olá Thiago Gomes Ziolkowski seja bem vindo ao Google Colab\n",
            "Sua Idade atual é:  31\n",
            "\n",
            "Let's go, informe dois números.\n",
            "A soma dos números informados é igual a:  50\n"
          ],
          "name": "stdout"
        }
      ]
    }
  ]
}